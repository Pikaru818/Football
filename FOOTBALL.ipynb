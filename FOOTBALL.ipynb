{
 "cells": [
  {
   "cell_type": "markdown",
   "id": "3035f3a2",
   "metadata": {},
   "source": [
    "Step 1 and Step 2:\n",
    "Read the dataset into the Pandas DataFrame!\n",
    "Does the dataset include any missing values? If so, delete the missing value entries!\n",
    "\n",
    "I originally just ran df.dropna but after coming up with nothing to double check I added an \" \" to \"NaN\" replacer then ran it so either there are no missing values or I goofed it somehow"
   ]
  },
  {
   "cell_type": "code",
   "execution_count": 1,
   "id": "91369502",
   "metadata": {},
   "outputs": [
    {
     "data": {
      "text/html": [
       "<div>\n",
       "<style scoped>\n",
       "    .dataframe tbody tr th:only-of-type {\n",
       "        vertical-align: middle;\n",
       "    }\n",
       "\n",
       "    .dataframe tbody tr th {\n",
       "        vertical-align: top;\n",
       "    }\n",
       "\n",
       "    .dataframe thead th {\n",
       "        text-align: right;\n",
       "    }\n",
       "</style>\n",
       "<table border=\"1\" class=\"dataframe\">\n",
       "  <thead>\n",
       "    <tr style=\"text-align: right;\">\n",
       "      <th></th>\n",
       "      <th>date</th>\n",
       "      <th>home_team</th>\n",
       "      <th>away_team</th>\n",
       "      <th>home_score</th>\n",
       "      <th>away_score</th>\n",
       "      <th>tournament</th>\n",
       "      <th>city</th>\n",
       "      <th>country</th>\n",
       "      <th>neutral</th>\n",
       "    </tr>\n",
       "  </thead>\n",
       "  <tbody>\n",
       "    <tr>\n",
       "      <th>0</th>\n",
       "      <td>1872-11-30</td>\n",
       "      <td>Scotland</td>\n",
       "      <td>England</td>\n",
       "      <td>0</td>\n",
       "      <td>0</td>\n",
       "      <td>Friendly</td>\n",
       "      <td>Glasgow</td>\n",
       "      <td>Scotland</td>\n",
       "      <td>False</td>\n",
       "    </tr>\n",
       "    <tr>\n",
       "      <th>1</th>\n",
       "      <td>1873-03-08</td>\n",
       "      <td>England</td>\n",
       "      <td>Scotland</td>\n",
       "      <td>4</td>\n",
       "      <td>2</td>\n",
       "      <td>Friendly</td>\n",
       "      <td>London</td>\n",
       "      <td>England</td>\n",
       "      <td>False</td>\n",
       "    </tr>\n",
       "    <tr>\n",
       "      <th>2</th>\n",
       "      <td>1874-03-07</td>\n",
       "      <td>Scotland</td>\n",
       "      <td>England</td>\n",
       "      <td>2</td>\n",
       "      <td>1</td>\n",
       "      <td>Friendly</td>\n",
       "      <td>Glasgow</td>\n",
       "      <td>Scotland</td>\n",
       "      <td>False</td>\n",
       "    </tr>\n",
       "    <tr>\n",
       "      <th>3</th>\n",
       "      <td>1875-03-06</td>\n",
       "      <td>England</td>\n",
       "      <td>Scotland</td>\n",
       "      <td>2</td>\n",
       "      <td>2</td>\n",
       "      <td>Friendly</td>\n",
       "      <td>London</td>\n",
       "      <td>England</td>\n",
       "      <td>False</td>\n",
       "    </tr>\n",
       "    <tr>\n",
       "      <th>4</th>\n",
       "      <td>1876-03-04</td>\n",
       "      <td>Scotland</td>\n",
       "      <td>England</td>\n",
       "      <td>3</td>\n",
       "      <td>0</td>\n",
       "      <td>Friendly</td>\n",
       "      <td>Glasgow</td>\n",
       "      <td>Scotland</td>\n",
       "      <td>False</td>\n",
       "    </tr>\n",
       "    <tr>\n",
       "      <th>...</th>\n",
       "      <td>...</td>\n",
       "      <td>...</td>\n",
       "      <td>...</td>\n",
       "      <td>...</td>\n",
       "      <td>...</td>\n",
       "      <td>...</td>\n",
       "      <td>...</td>\n",
       "      <td>...</td>\n",
       "      <td>...</td>\n",
       "    </tr>\n",
       "    <tr>\n",
       "      <th>42645</th>\n",
       "      <td>2021-09-09</td>\n",
       "      <td>Colombia</td>\n",
       "      <td>Chile</td>\n",
       "      <td>3</td>\n",
       "      <td>1</td>\n",
       "      <td>FIFA World Cup qualification</td>\n",
       "      <td>Barranquilla</td>\n",
       "      <td>Colombia</td>\n",
       "      <td>False</td>\n",
       "    </tr>\n",
       "    <tr>\n",
       "      <th>42646</th>\n",
       "      <td>2021-09-09</td>\n",
       "      <td>Paraguay</td>\n",
       "      <td>Venezuela</td>\n",
       "      <td>2</td>\n",
       "      <td>1</td>\n",
       "      <td>FIFA World Cup qualification</td>\n",
       "      <td>Asunción</td>\n",
       "      <td>Paraguay</td>\n",
       "      <td>False</td>\n",
       "    </tr>\n",
       "    <tr>\n",
       "      <th>42647</th>\n",
       "      <td>2021-09-09</td>\n",
       "      <td>Uruguay</td>\n",
       "      <td>Ecuador</td>\n",
       "      <td>1</td>\n",
       "      <td>0</td>\n",
       "      <td>FIFA World Cup qualification</td>\n",
       "      <td>Montevideo</td>\n",
       "      <td>Uruguay</td>\n",
       "      <td>False</td>\n",
       "    </tr>\n",
       "    <tr>\n",
       "      <th>42648</th>\n",
       "      <td>2021-09-09</td>\n",
       "      <td>Argentina</td>\n",
       "      <td>Bolivia</td>\n",
       "      <td>3</td>\n",
       "      <td>0</td>\n",
       "      <td>FIFA World Cup qualification</td>\n",
       "      <td>Buenos Aires</td>\n",
       "      <td>Argentina</td>\n",
       "      <td>False</td>\n",
       "    </tr>\n",
       "    <tr>\n",
       "      <th>42649</th>\n",
       "      <td>2021-09-09</td>\n",
       "      <td>Brazil</td>\n",
       "      <td>Peru</td>\n",
       "      <td>2</td>\n",
       "      <td>0</td>\n",
       "      <td>FIFA World Cup qualification</td>\n",
       "      <td>Recife</td>\n",
       "      <td>Brazil</td>\n",
       "      <td>False</td>\n",
       "    </tr>\n",
       "  </tbody>\n",
       "</table>\n",
       "<p>42650 rows × 9 columns</p>\n",
       "</div>"
      ],
      "text/plain": [
       "             date  home_team  away_team  home_score  away_score  \\\n",
       "0      1872-11-30   Scotland    England           0           0   \n",
       "1      1873-03-08    England   Scotland           4           2   \n",
       "2      1874-03-07   Scotland    England           2           1   \n",
       "3      1875-03-06    England   Scotland           2           2   \n",
       "4      1876-03-04   Scotland    England           3           0   \n",
       "...           ...        ...        ...         ...         ...   \n",
       "42645  2021-09-09   Colombia      Chile           3           1   \n",
       "42646  2021-09-09   Paraguay  Venezuela           2           1   \n",
       "42647  2021-09-09    Uruguay    Ecuador           1           0   \n",
       "42648  2021-09-09  Argentina    Bolivia           3           0   \n",
       "42649  2021-09-09     Brazil       Peru           2           0   \n",
       "\n",
       "                         tournament          city    country  neutral  \n",
       "0                          Friendly       Glasgow   Scotland    False  \n",
       "1                          Friendly        London    England    False  \n",
       "2                          Friendly       Glasgow   Scotland    False  \n",
       "3                          Friendly        London    England    False  \n",
       "4                          Friendly       Glasgow   Scotland    False  \n",
       "...                             ...           ...        ...      ...  \n",
       "42645  FIFA World Cup qualification  Barranquilla   Colombia    False  \n",
       "42646  FIFA World Cup qualification      Asunción   Paraguay    False  \n",
       "42647  FIFA World Cup qualification    Montevideo    Uruguay    False  \n",
       "42648  FIFA World Cup qualification  Buenos Aires  Argentina    False  \n",
       "42649  FIFA World Cup qualification        Recife     Brazil    False  \n",
       "\n",
       "[42650 rows x 9 columns]"
      ]
     },
     "execution_count": 1,
     "metadata": {},
     "output_type": "execute_result"
    }
   ],
   "source": [
    "import pandas as pd\n",
    "import numpy as np \n",
    "from sklearn.preprocessing import LabelEncoder, OneHotEncoder,StandardScaler\n",
    "import matplotlib.pyplot as plt\n",
    "import seaborn as sns\n",
    "df=pd.read_csv('results.csv')\n",
    "sca = StandardScaler()\n",
    "enc = LabelEncoder()\n",
    "oenc = OneHotEncoder()\n",
    "\n",
    "df=df.replace(r'^\\s*$', np.nan, regex=True)\n",
    "df.dropna(inplace=True,axis=0) #Drops missing values\n",
    "df"
   ]
  },
  {
   "cell_type": "markdown",
   "id": "cc0efd09",
   "metadata": {},
   "source": [
    "Step 3.1:\n",
    "\n",
    "How many tuples are there in the dataset?\n",
    "\n",
    "Uses the len() command to count the amount of Tuples in the dataset"
   ]
  },
  {
   "cell_type": "code",
   "execution_count": 2,
   "id": "98410aff",
   "metadata": {},
   "outputs": [
    {
     "name": "stdout",
     "output_type": "stream",
     "text": [
      "There are 42650 different Tuples\n"
     ]
    }
   ],
   "source": [
    "print(\"There are\",len(df),\"different Tuples\")"
   ]
  },
  {
   "cell_type": "markdown",
   "id": "223119eb",
   "metadata": {},
   "source": [
    "Step 3.2:\n",
    "\n",
    "How many tournaments are there in the dataset?\n",
    "\n",
    "Assings the Tournaments to the variable Tourn and runs it through n.unique() to find the amount of unique Tournaments"
   ]
  },
  {
   "cell_type": "code",
   "execution_count": 3,
   "id": "bb9a6ab8",
   "metadata": {},
   "outputs": [
    {
     "name": "stdout",
     "output_type": "stream",
     "text": [
      "There are  120 different Tournaments\n"
     ]
    }
   ],
   "source": [
    "Tourn= df.iloc[:, 5]\n",
    "print(\"There are \",Tourn.nunique(),\"different Tournaments\")"
   ]
  },
  {
   "cell_type": "markdown",
   "id": "ddb0d5eb",
   "metadata": {},
   "source": [
    "Step 4.1 and Step 4.2:\n",
    "\n",
    "Convert the column date to timestamps!\n",
    "\n",
    "Find out how many matches in the dataset were played in 2018.\n",
    "\n",
    "Uses to_datetime to turn the date column into timestamps and using the result, calculates the matches played in 2018 using value_counts"
   ]
  },
  {
   "cell_type": "code",
   "execution_count": 4,
   "id": "c86ebdd1",
   "metadata": {
    "scrolled": true
   },
   "outputs": [
    {
     "name": "stdout",
     "output_type": "stream",
     "text": [
      "0       1872-11-30\n",
      "1       1873-03-08\n",
      "2       1874-03-07\n",
      "3       1875-03-06\n",
      "4       1876-03-04\n",
      "           ...    \n",
      "42645   2021-09-09\n",
      "42646   2021-09-09\n",
      "42647   2021-09-09\n",
      "42648   2021-09-09\n",
      "42649   2021-09-09\n",
      "Name: date, Length: 42650, dtype: datetime64[ns]\n",
      "\n",
      "There were 4 matches played in the year 2018\n"
     ]
    }
   ],
   "source": [
    "date = df.iloc[:, 0]\n",
    "tmstmp = pd.to_datetime(df.date)\n",
    "review =tmstmp.value_counts()[2018]\n",
    "print(tmstmp)\n",
    "print(\"\")\n",
    "print(\"There were\", review, \"matches played in the year 2018\")"
   ]
  },
  {
   "cell_type": "markdown",
   "id": "fd7c7f5e",
   "metadata": {},
   "source": [
    "Step 5:\n",
    "Calculate how many times the home team won, lost, or had a draw.\n",
    "\n",
    "using the .loc command it grabs how many times the home score was either greater, less than, or equal to the away score, put it in a variable and printed out the results"
   ]
  },
  {
   "cell_type": "code",
   "execution_count": 5,
   "id": "12fcc026",
   "metadata": {},
   "outputs": [
    {
     "name": "stdout",
     "output_type": "stream",
     "text": [
      "The home team won 20739 games, lost 12074 and tied 9837 games adding up to a total of 42650 games\n"
     ]
    }
   ],
   "source": [
    "win=df.loc[df['home_score'] > df['away_score'] ].shape[0]\n",
    "lose=df.loc[df['home_score'] < df['away_score'] ].shape[0]\n",
    "tie=df.loc[df['home_score'] == df['away_score'] ].shape[0]\n",
    "print(\"The home team won\", win, \"games, lost\",lose,\"and tied\",tie,\"games adding up to a total of\",(win+lose+tie),\"games\")"
   ]
  },
  {
   "cell_type": "markdown",
   "id": "1b8a88c9",
   "metadata": {},
   "source": [
    "Step 6.1:\n",
    "\n",
    "Plot the numbers extracted from step 5 in a pie chart.\n",
    "\n",
    "Using seaborn creates a pie using data from step 5 to make a pie chart by turning the values into percents, Home team wins 50% of the time pretty much which caught me off guard"
   ]
  },
  {
   "cell_type": "code",
   "execution_count": 9,
   "id": "962733cf",
   "metadata": {},
   "outputs": [
    {
     "data": {
      "text/plain": [
       "([<matplotlib.patches.Wedge at 0x20a1ec7a400>,\n",
       "  <matplotlib.patches.Wedge at 0x20a1ec7ab20>,\n",
       "  <matplotlib.patches.Wedge at 0x20a1ec87280>],\n",
       " [Text(0.04746637221253046, 1.0989754062348174, 'Wins'),\n",
       "  Text(-0.7639751740114014, -0.7914176732258695, 'Loses'),\n",
       "  Text(0.8236470240463938, -0.7291128717691929, 'Ties')],\n",
       " [Text(0.025890748479562065, 0.5994411306735367, '49%'),\n",
       "  Text(-0.4167137312789461, -0.43168236721411063, '28%'),\n",
       "  Text(0.4492620131162147, -0.39769793005592335, '23%')])"
      ]
     },
     "execution_count": 9,
     "metadata": {},
     "output_type": "execute_result"
    },
    {
     "data": {
      "image/png": "[encoded data removed]",
      "text/plain": [
       "<Figure size 432x288 with 1 Axes>"
      ]
     },
     "metadata": {},
     "output_type": "display_data"
    }
   ],
   "source": [
    "data = [win,lose,tie]\n",
    "labels=[\"Wins\",\"Loses\",\"Ties\"]\n",
    "colors = sns.color_palette('colorblind')[0:3]\n",
    "plt.pie(data, labels = labels, colors = colors, autopct='%.0f%%')"
   ]
  },
  {
   "cell_type": "markdown",
   "id": "8955ad8b",
   "metadata": {},
   "source": [
    "Step 6.2\n",
    "\n",
    "Plot the neutral column as a pie chart."
   ]
  },
  {
   "cell_type": "code",
   "execution_count": 41,
   "id": "ef364958",
   "metadata": {},
   "outputs": [
    {
     "data": {
      "text/plain": [
       "([<matplotlib.patches.Wedge at 0x20a2572b220>,\n",
       "  <matplotlib.patches.Wedge at 0x20a2572b940>],\n",
       " [Text(0.7828714132271628, 0.7727304512905552, 'True'),\n",
       "  Text(-0.782871449401285, -0.7727304146416986, 'False')],\n",
       " [Text(0.4270207708511797, 0.4214893370675755, '25%'),\n",
       "  Text(-0.427020790582519, -0.4214893170772901, '75%')])"
      ]
     },
     "execution_count": 41,
     "metadata": {},
     "output_type": "execute_result"
    },
    {
     "data": {
      "image/png": "[encoded data removed]",
      "text/plain": [
       "<Figure size 432x288 with 1 Axes>"
      ]
     },
     "metadata": {},
     "output_type": "display_data"
    }
   ],
   "source": [
    "why=df.iloc[:, 8]\n",
    "unique, counts = np.unique(why, return_counts=True)\n",
    "must=counts[1]\n",
    "you=counts[0]\n",
    "neutral=[must,you]\n",
    "ncolors=sns.color_palette('bright')[0:2]\n",
    "nlabels=[\"True\",\"False\"]\n",
    "plt.pie(neutral, labels = nlabels, colors = ncolors, autopct='%.0f%%')"
   ]
  },
  {
   "cell_type": "code",
   "execution_count": null,
   "id": "7db9370c",
   "metadata": {},
   "outputs": [],
   "source": []
  }
 ],
 "metadata": {
  "kernelspec": {
   "display_name": "Python 3 (ipykernel)",
   "language": "python",
   "name": "python3"
  },
  "language_info": {
   "codemirror_mode": {
    "name": "ipython",
    "version": 3
   },
   "file_extension": ".py",
   "mimetype": "text/x-python",
   "name": "python",
   "nbconvert_exporter": "python",
   "pygments_lexer": "ipython3",
   "version": "3.9.12"
  }
 },
 "nbformat": 4,
 "nbformat_minor": 5
}
